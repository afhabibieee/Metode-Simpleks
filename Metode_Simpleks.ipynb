{
  "nbformat": 4,
  "nbformat_minor": 0,
  "metadata": {
    "colab": {
      "name": "Metode Simpleks.ipynb",
      "provenance": [],
      "collapsed_sections": [],
      "include_colab_link": true
    },
    "kernelspec": {
      "display_name": "Python 3",
      "name": "python3"
    },
    "language_info": {
      "name": "python"
    }
  },
  "cells": [
    {
      "cell_type": "markdown",
      "metadata": {
        "id": "view-in-github",
        "colab_type": "text"
      },
      "source": [
        "<a href=\"https://colab.research.google.com/github/afhabibieee/Metode-Simpleks/blob/main/Metode_Simpleks.ipynb\" target=\"_parent\"><img src=\"https://colab.research.google.com/assets/colab-badge.svg\" alt=\"Open In Colab\"/></a>"
      ]
    },
    {
      "cell_type": "markdown",
      "metadata": {
        "id": "uTvezGt3saFl"
      },
      "source": [
        "Tugas dan UTS ROO\n",
        "\n",
        "Adil Faruq Habibi"
      ]
    },
    {
      "cell_type": "markdown",
      "metadata": {
        "id": "A-vav1LGrRp9"
      },
      "source": [
        "# Main Code"
      ]
    },
    {
      "cell_type": "code",
      "metadata": {
        "id": "6RGyi1oOIAoW"
      },
      "source": [
        "#required library\n",
        "import numpy as np\n",
        "import pandas as pd\n",
        "from IPython.display import display"
      ],
      "execution_count": null,
      "outputs": []
    },
    {
      "cell_type": "code",
      "metadata": {
        "id": "5P474NzTGNKS"
      },
      "source": [
        "def koef_nk(n_var, n_func):\n",
        "  koef = []\n",
        "  nk = []\n",
        "  for i in range(n_func):\n",
        "    print(\"Fungsi Batasan {}\".format(i+1))\n",
        "    temp_koefs = []\n",
        "    for j in range(n_var):\n",
        "      temp_koefs += input(\"Koefisien X\"+str(j+1)+\" : \")\n",
        "    nk.append(input(\"Nilai Kanan Fungsi ke-\"+str(i+1)+\" : \"))\n",
        "    koef.append(temp_koefs)\n",
        "  return np.array(koef).astype('float'), np.array(nk).astype('float')"
      ],
      "execution_count": null,
      "outputs": []
    },
    {
      "cell_type": "code",
      "metadata": {
        "id": "XLItJFHcGgun"
      },
      "source": [
        "def stack(n_func):\n",
        "  stack_koefs_tujuan = np.zeros(n_func).astype('int')\n",
        "  stack_koefs = []\n",
        "  for i in range(n_func):\n",
        "    temp_stack = np.zeros(n_func)\n",
        "    temp_stack[i] = 1\n",
        "    stack_koefs.append(temp_stack)\n",
        "  return stack_koefs_tujuan, np.array(stack_koefs).astype('int')"
      ],
      "execution_count": null,
      "outputs": []
    },
    {
      "cell_type": "code",
      "metadata": {
        "id": "jq2e4TtbIMRP"
      },
      "source": [
        "def kendala(koefs, stack_kendala, nks):\n",
        "  z = np.zeros(len(nks)).reshape(len(nks), 1)\n",
        "  return np.concatenate((z, koefs, stack_kendala, nks.reshape(len(nks), 1)),\n",
        "                        axis=1).astype('float')"
      ],
      "execution_count": null,
      "outputs": []
    },
    {
      "cell_type": "code",
      "metadata": {
        "id": "cOXO_IhHJvf6"
      },
      "source": [
        "def tujuan(n_var, n_func, kasus, stack_tujuan):\n",
        "  z = 1\n",
        "  nk = 0\n",
        "\n",
        "  print(\"Fungsi Tujuan\")\n",
        "  koef = np.array([input(\"Koefisien X\"+str(i+1)+\" : \") for i in range(n_var)])\\\n",
        "  .astype('float')\n",
        "  \n",
        "  koef *= -1\n",
        "\n",
        "  list_tujuan = np.concatenate(([z], koef, stack_tujuan, [nk]), axis=0)\n",
        "  \n",
        "  return list_tujuan"
      ],
      "execution_count": null,
      "outputs": []
    },
    {
      "cell_type": "code",
      "metadata": {
        "id": "-oKy9Xk9MkI8"
      },
      "source": [
        "def table_simpleks(n_var, n_func, values):\n",
        "  column_names = ['Z'] + ['X'+str(i+1) for i in range(n_var)] + ['S'+str(i+1) for i in range(n_func)] + ['NK']\n",
        "  var_dasar = ['Z'] + ['S'+str(i+1) for i in range(n_func)]\n",
        "  df = pd.DataFrame(data=values, index=var_dasar, columns=column_names)\n",
        "  return df"
      ],
      "execution_count": null,
      "outputs": []
    },
    {
      "cell_type": "code",
      "metadata": {
        "id": "q2Tnmh0bNVjK"
      },
      "source": [
        "def metode_simpleks(table, n_var, n_func, kasus):\n",
        "  list_baris_kunci = []\n",
        "  while True:\n",
        "    # memilih kolom kunci\n",
        "    if kasus == 'max' and (table.iloc[0, 1:1+n_var+n_func] < 0).any():\n",
        "      kolom_kunci = np.argmin(table.iloc[0, 1:1+n_var+n_func]) + 1\n",
        "      kolom_kunci_name = table.columns[kolom_kunci]\n",
        "    elif kasus == 'min' and (table.iloc[0, 1:1+n_var+n_func] > 0).any():\n",
        "      kolom_kunci = np.argmax(table.iloc[0, 1:1+n_var+n_func]) + 1\n",
        "      kolom_kunci_name = table.columns[kolom_kunci]\n",
        "    else:\n",
        "      print('Tabel tidak bisa dioptimalkan lagi\\n')\n",
        "      print('Nilai Z {} adalah {}'.format(kasus, table.iloc[0,-1]))\n",
        "      for bk in list_baris_kunci:\n",
        "        print('{} = {}'.format(bk, table.loc[bk, 'NK']))\n",
        "      break\n",
        "\n",
        "    # memilih baris kunci\n",
        "    rasio = table.iloc[1:, -1] / table.iloc[1:, kolom_kunci]\n",
        "    baris_kunci = np.where(rasio > 0, rasio, np.inf).argmin() + 1\n",
        "    baris_kunci_name = table.index[baris_kunci]\n",
        "    \n",
        "    if kolom_kunci_name in ['X'+str(i+1) for i in range(n_var)]:\n",
        "      list_baris_kunci.append(kolom_kunci_name)\n",
        "\n",
        "    # rename index row\n",
        "    table.rename(index={baris_kunci_name: kolom_kunci_name}, inplace=True)\n",
        "\n",
        "    # bentuk ke matrik eselon baris\n",
        "    table.iloc[baris_kunci] = table.iloc(axis=0)[baris_kunci] / table.iloc[baris_kunci, kolom_kunci]\n",
        "\n",
        "    # mengubah nilai selain baris kunci\n",
        "    for i in range(n_func+1):\n",
        "      if i != baris_kunci:\n",
        "        table.iloc[i, :] -= table.iloc[baris_kunci]*table.iloc[i, kolom_kunci]\n",
        "    \n",
        "    # tampilkan dataframe\n",
        "    display(table)\n",
        "    print('\\n')"
      ],
      "execution_count": null,
      "outputs": []
    },
    {
      "cell_type": "code",
      "metadata": {
        "id": "SyvZ69njGtrV"
      },
      "source": [
        "def main(n_var, n_func, kasus):\n",
        "  koefs_and_nks = koef_nk(n_var, n_func)\n",
        "  koefs = koefs_and_nks[0]\n",
        "  nks = koefs_and_nks[1]\n",
        "\n",
        "  stacks = stack(n_func)\n",
        "  stack_tujuan = stacks[0]\n",
        "  stack_kendala = stacks[1]\n",
        "\n",
        "  list_kendala = kendala(koefs, stack_kendala, nks)\n",
        "  list_tujuan = tujuan(n_var, n_func, kasus, stack_tujuan)\n",
        "\n",
        "  initial_values = np.concatenate(([list_tujuan], list_kendala), axis=0)\n",
        "  table_awal = table_simpleks(n_var, n_func, initial_values)\n",
        "  display(table_awal)\n",
        "  print('\\n')\n",
        "  metode_simpleks(table_awal, n_var, n_func, kasus)"
      ],
      "execution_count": null,
      "outputs": []
    },
    {
      "cell_type": "markdown",
      "metadata": {
        "id": "36LKUn70rYW0"
      },
      "source": [
        "# Tugas"
      ]
    },
    {
      "cell_type": "markdown",
      "metadata": {
        "id": "iILBY8vqyEDZ"
      },
      "source": [
        "\n",
        "\n",
        "Fungsi Tujuan \t: Maksimumkan Z = 3X1 + 2X2   \n",
        "Fungsi Kendala\t: \n",
        "\n",
        "* X1 + X2 ≤15\n",
        "\n",
        "* 2X1 + X2 ≤28\n",
        "\n",
        "* X1 + 2X2 ≤20\n",
        "\n",
        "\n",
        "\n"
      ]
    },
    {
      "cell_type": "code",
      "metadata": {
        "colab": {
          "base_uri": "https://localhost:8080/",
          "height": 994
        },
        "id": "bONyDwqyF3JU",
        "outputId": "d0b06f60-a693-4017-d3f7-d3f82e9abfa9"
      },
      "source": [
        "# Tugas\n",
        "if __name__ == \"__main__\":\n",
        "    n_var = int(input(\"Jumlah variable : \"))\n",
        "    n_func = int(input(\"Jumlah fungsi batasan : \"))\n",
        "    kasus = input(\"Minimumkan atau maksimumkan [min/max]? \")\n",
        "    \n",
        "    main(n_var, n_func, kasus)"
      ],
      "execution_count": null,
      "outputs": [
        {
          "name": "stdout",
          "output_type": "stream",
          "text": [
            "Jumlah variable : 2\n",
            "Jumlah fungsi batasan : 3\n",
            "Minimumkan atau maksimumkan [min/max]? max\n",
            "Fungsi Batasan 1\n",
            "Koefisien X1 : 1\n",
            "Koefisien X2 : 1\n",
            "Nilai Kanan Fungsi ke-1 : 15\n",
            "Fungsi Batasan 2\n",
            "Koefisien X1 : 2\n",
            "Koefisien X2 : 1\n",
            "Nilai Kanan Fungsi ke-2 : 28\n",
            "Fungsi Batasan 3\n",
            "Koefisien X1 : 1\n",
            "Koefisien X2 : 2\n",
            "Nilai Kanan Fungsi ke-3 : 20\n",
            "Fungsi Tujuan\n",
            "Koefisien X1 : 3\n",
            "Koefisien X2 : 2\n"
          ]
        },
        {
          "output_type": "display_data",
          "data": {
            "text/html": [
              "<div>\n",
              "<style scoped>\n",
              "    .dataframe tbody tr th:only-of-type {\n",
              "        vertical-align: middle;\n",
              "    }\n",
              "\n",
              "    .dataframe tbody tr th {\n",
              "        vertical-align: top;\n",
              "    }\n",
              "\n",
              "    .dataframe thead th {\n",
              "        text-align: right;\n",
              "    }\n",
              "</style>\n",
              "<table border=\"1\" class=\"dataframe\">\n",
              "  <thead>\n",
              "    <tr style=\"text-align: right;\">\n",
              "      <th></th>\n",
              "      <th>Z</th>\n",
              "      <th>X1</th>\n",
              "      <th>X2</th>\n",
              "      <th>S1</th>\n",
              "      <th>S2</th>\n",
              "      <th>S3</th>\n",
              "      <th>NK</th>\n",
              "    </tr>\n",
              "  </thead>\n",
              "  <tbody>\n",
              "    <tr>\n",
              "      <th>Z</th>\n",
              "      <td>1.0</td>\n",
              "      <td>-3.0</td>\n",
              "      <td>-2.0</td>\n",
              "      <td>0.0</td>\n",
              "      <td>0.0</td>\n",
              "      <td>0.0</td>\n",
              "      <td>0.0</td>\n",
              "    </tr>\n",
              "    <tr>\n",
              "      <th>S1</th>\n",
              "      <td>0.0</td>\n",
              "      <td>1.0</td>\n",
              "      <td>1.0</td>\n",
              "      <td>1.0</td>\n",
              "      <td>0.0</td>\n",
              "      <td>0.0</td>\n",
              "      <td>15.0</td>\n",
              "    </tr>\n",
              "    <tr>\n",
              "      <th>S2</th>\n",
              "      <td>0.0</td>\n",
              "      <td>2.0</td>\n",
              "      <td>1.0</td>\n",
              "      <td>0.0</td>\n",
              "      <td>1.0</td>\n",
              "      <td>0.0</td>\n",
              "      <td>28.0</td>\n",
              "    </tr>\n",
              "    <tr>\n",
              "      <th>S3</th>\n",
              "      <td>0.0</td>\n",
              "      <td>1.0</td>\n",
              "      <td>2.0</td>\n",
              "      <td>0.0</td>\n",
              "      <td>0.0</td>\n",
              "      <td>1.0</td>\n",
              "      <td>20.0</td>\n",
              "    </tr>\n",
              "  </tbody>\n",
              "</table>\n",
              "</div>"
            ],
            "text/plain": [
              "      Z   X1   X2   S1   S2   S3    NK\n",
              "Z   1.0 -3.0 -2.0  0.0  0.0  0.0   0.0\n",
              "S1  0.0  1.0  1.0  1.0  0.0  0.0  15.0\n",
              "S2  0.0  2.0  1.0  0.0  1.0  0.0  28.0\n",
              "S3  0.0  1.0  2.0  0.0  0.0  1.0  20.0"
            ]
          },
          "metadata": {}
        },
        {
          "output_type": "stream",
          "name": "stdout",
          "text": [
            "\n",
            "\n"
          ]
        },
        {
          "output_type": "display_data",
          "data": {
            "text/html": [
              "<div>\n",
              "<style scoped>\n",
              "    .dataframe tbody tr th:only-of-type {\n",
              "        vertical-align: middle;\n",
              "    }\n",
              "\n",
              "    .dataframe tbody tr th {\n",
              "        vertical-align: top;\n",
              "    }\n",
              "\n",
              "    .dataframe thead th {\n",
              "        text-align: right;\n",
              "    }\n",
              "</style>\n",
              "<table border=\"1\" class=\"dataframe\">\n",
              "  <thead>\n",
              "    <tr style=\"text-align: right;\">\n",
              "      <th></th>\n",
              "      <th>Z</th>\n",
              "      <th>X1</th>\n",
              "      <th>X2</th>\n",
              "      <th>S1</th>\n",
              "      <th>S2</th>\n",
              "      <th>S3</th>\n",
              "      <th>NK</th>\n",
              "    </tr>\n",
              "  </thead>\n",
              "  <tbody>\n",
              "    <tr>\n",
              "      <th>Z</th>\n",
              "      <td>1.0</td>\n",
              "      <td>0.0</td>\n",
              "      <td>-0.5</td>\n",
              "      <td>0.0</td>\n",
              "      <td>1.5</td>\n",
              "      <td>0.0</td>\n",
              "      <td>42.0</td>\n",
              "    </tr>\n",
              "    <tr>\n",
              "      <th>S1</th>\n",
              "      <td>0.0</td>\n",
              "      <td>0.0</td>\n",
              "      <td>0.5</td>\n",
              "      <td>1.0</td>\n",
              "      <td>-0.5</td>\n",
              "      <td>0.0</td>\n",
              "      <td>1.0</td>\n",
              "    </tr>\n",
              "    <tr>\n",
              "      <th>X1</th>\n",
              "      <td>0.0</td>\n",
              "      <td>1.0</td>\n",
              "      <td>0.5</td>\n",
              "      <td>0.0</td>\n",
              "      <td>0.5</td>\n",
              "      <td>0.0</td>\n",
              "      <td>14.0</td>\n",
              "    </tr>\n",
              "    <tr>\n",
              "      <th>S3</th>\n",
              "      <td>0.0</td>\n",
              "      <td>0.0</td>\n",
              "      <td>1.5</td>\n",
              "      <td>0.0</td>\n",
              "      <td>-0.5</td>\n",
              "      <td>1.0</td>\n",
              "      <td>6.0</td>\n",
              "    </tr>\n",
              "  </tbody>\n",
              "</table>\n",
              "</div>"
            ],
            "text/plain": [
              "      Z   X1   X2   S1   S2   S3    NK\n",
              "Z   1.0  0.0 -0.5  0.0  1.5  0.0  42.0\n",
              "S1  0.0  0.0  0.5  1.0 -0.5  0.0   1.0\n",
              "X1  0.0  1.0  0.5  0.0  0.5  0.0  14.0\n",
              "S3  0.0  0.0  1.5  0.0 -0.5  1.0   6.0"
            ]
          },
          "metadata": {}
        },
        {
          "output_type": "stream",
          "name": "stdout",
          "text": [
            "\n",
            "\n"
          ]
        },
        {
          "output_type": "display_data",
          "data": {
            "text/html": [
              "<div>\n",
              "<style scoped>\n",
              "    .dataframe tbody tr th:only-of-type {\n",
              "        vertical-align: middle;\n",
              "    }\n",
              "\n",
              "    .dataframe tbody tr th {\n",
              "        vertical-align: top;\n",
              "    }\n",
              "\n",
              "    .dataframe thead th {\n",
              "        text-align: right;\n",
              "    }\n",
              "</style>\n",
              "<table border=\"1\" class=\"dataframe\">\n",
              "  <thead>\n",
              "    <tr style=\"text-align: right;\">\n",
              "      <th></th>\n",
              "      <th>Z</th>\n",
              "      <th>X1</th>\n",
              "      <th>X2</th>\n",
              "      <th>S1</th>\n",
              "      <th>S2</th>\n",
              "      <th>S3</th>\n",
              "      <th>NK</th>\n",
              "    </tr>\n",
              "  </thead>\n",
              "  <tbody>\n",
              "    <tr>\n",
              "      <th>Z</th>\n",
              "      <td>1.0</td>\n",
              "      <td>0.0</td>\n",
              "      <td>0.0</td>\n",
              "      <td>1.0</td>\n",
              "      <td>1.0</td>\n",
              "      <td>0.0</td>\n",
              "      <td>43.0</td>\n",
              "    </tr>\n",
              "    <tr>\n",
              "      <th>X2</th>\n",
              "      <td>0.0</td>\n",
              "      <td>0.0</td>\n",
              "      <td>1.0</td>\n",
              "      <td>2.0</td>\n",
              "      <td>-1.0</td>\n",
              "      <td>0.0</td>\n",
              "      <td>2.0</td>\n",
              "    </tr>\n",
              "    <tr>\n",
              "      <th>X1</th>\n",
              "      <td>0.0</td>\n",
              "      <td>1.0</td>\n",
              "      <td>0.0</td>\n",
              "      <td>-1.0</td>\n",
              "      <td>1.0</td>\n",
              "      <td>0.0</td>\n",
              "      <td>13.0</td>\n",
              "    </tr>\n",
              "    <tr>\n",
              "      <th>S3</th>\n",
              "      <td>0.0</td>\n",
              "      <td>0.0</td>\n",
              "      <td>0.0</td>\n",
              "      <td>-3.0</td>\n",
              "      <td>1.0</td>\n",
              "      <td>1.0</td>\n",
              "      <td>3.0</td>\n",
              "    </tr>\n",
              "  </tbody>\n",
              "</table>\n",
              "</div>"
            ],
            "text/plain": [
              "      Z   X1   X2   S1   S2   S3    NK\n",
              "Z   1.0  0.0  0.0  1.0  1.0  0.0  43.0\n",
              "X2  0.0  0.0  1.0  2.0 -1.0  0.0   2.0\n",
              "X1  0.0  1.0  0.0 -1.0  1.0  0.0  13.0\n",
              "S3  0.0  0.0  0.0 -3.0  1.0  1.0   3.0"
            ]
          },
          "metadata": {}
        },
        {
          "output_type": "stream",
          "name": "stdout",
          "text": [
            "\n",
            "\n",
            "Tabel tidak bisa dioptimalkan lagi\n",
            "\n",
            "Nilai Z max adalah 43.0\n",
            "X1 = 13.0\n",
            "X2 = 2.0\n"
          ]
        }
      ]
    },
    {
      "cell_type": "markdown",
      "metadata": {
        "id": "-Sjx6bXkrOQ-"
      },
      "source": [
        "# UTS"
      ]
    },
    {
      "cell_type": "markdown",
      "metadata": {
        "id": "tx5oIbkVriDA"
      },
      "source": [
        "\n",
        "\n",
        "> Perusahaan  software  “ORANGE”  memproduksi  2  macam  produk  yaitu;  software  data mining (X1) dan statistik (X2). Untuk membuat produk tersebut perusahaan mempunyai 3 tim yakni, tim 1 digunakan untuk desain UI/UX, tim 2 untuk membuat program dan mengembangkan, dan tim 3 untuk tesing dan implementasi. Setiap membuat software data mining (X1) mula-mula tim bekerja sebagai berikut: tim 1 membuat desain UI/UX selama 4 jam dan tanpa melalui tim 2, langsung diproses tim 3 selama 4 jam pula. Sedangkan untuk membuat software statistik (X2), perusahaan menugaskan tim 2 selama 5 jam dan tim 3 selama 3 jam. Jam kerja maksimum untuk tim 1 adalah 16 jam, tim 2 adalah 30 jam dan tim 3 selama 24 jam per minggu. Kontribusi keuntungan masing-masing untuk software data mining (X1) sebesar USD50,- dan software statistik (X2) USD40,- Dari data-data di atas, carilah kombinasi produk yang paling optimal ?\n",
        "\n"
      ]
    },
    {
      "cell_type": "markdown",
      "metadata": {
        "id": "MYfpI-RU5kAk"
      },
      "source": [
        "\n",
        "\n",
        "Fungsi Tujuan \t: Maksimumkan Z = 50X1 + 40X2   \n",
        "Fungsi Kendala\t: \n",
        "\n",
        "* 4X1 ≤16\n",
        "\n",
        "* 5X2 ≤30\n",
        "\n",
        "* 4X1 + 3X2 ≤24\n"
      ]
    },
    {
      "cell_type": "code",
      "metadata": {
        "id": "A2PjU6zwepLm",
        "colab": {
          "base_uri": "https://localhost:8080/",
          "height": 1000
        },
        "outputId": "d34897af-d311-45dd-9b6f-f70e639d3526"
      },
      "source": [
        "# UTS\n",
        "if __name__ == \"__main__\":\n",
        "    n_var = int(input(\"Jumlah Produk : \"))\n",
        "    n_func = int(input(\"Jumlah tim : \"))\n",
        "    kasus = input(\"Minimumkan atau maksimumkan [min/max]? \")\n",
        "    \n",
        "    main(n_var, n_func, kasus)"
      ],
      "execution_count": null,
      "outputs": [
        {
          "name": "stdout",
          "output_type": "stream",
          "text": [
            "Jumlah Produk : 2\n",
            "Jumlah tim : 3\n",
            "Minimumkan atau maksimumkan [min/max]? max\n",
            "Fungsi Batasan 1\n",
            "Koefisien X1 : 4\n",
            "Koefisien X2 : 0\n",
            "Nilai Kanan Fungsi ke-1 : 16\n",
            "Fungsi Batasan 2\n",
            "Koefisien X1 : 0\n",
            "Koefisien X2 : 5\n",
            "Nilai Kanan Fungsi ke-2 : 30\n",
            "Fungsi Batasan 3\n",
            "Koefisien X1 : 4\n",
            "Koefisien X2 : 3\n",
            "Nilai Kanan Fungsi ke-3 : 24\n",
            "Fungsi Tujuan\n",
            "Koefisien X1 : 50\n",
            "Koefisien X2 : 40\n"
          ]
        },
        {
          "output_type": "display_data",
          "data": {
            "text/html": [
              "<div>\n",
              "<style scoped>\n",
              "    .dataframe tbody tr th:only-of-type {\n",
              "        vertical-align: middle;\n",
              "    }\n",
              "\n",
              "    .dataframe tbody tr th {\n",
              "        vertical-align: top;\n",
              "    }\n",
              "\n",
              "    .dataframe thead th {\n",
              "        text-align: right;\n",
              "    }\n",
              "</style>\n",
              "<table border=\"1\" class=\"dataframe\">\n",
              "  <thead>\n",
              "    <tr style=\"text-align: right;\">\n",
              "      <th></th>\n",
              "      <th>Z</th>\n",
              "      <th>X1</th>\n",
              "      <th>X2</th>\n",
              "      <th>S1</th>\n",
              "      <th>S2</th>\n",
              "      <th>S3</th>\n",
              "      <th>NK</th>\n",
              "    </tr>\n",
              "  </thead>\n",
              "  <tbody>\n",
              "    <tr>\n",
              "      <th>Z</th>\n",
              "      <td>1.0</td>\n",
              "      <td>-50.0</td>\n",
              "      <td>-40.0</td>\n",
              "      <td>0.0</td>\n",
              "      <td>0.0</td>\n",
              "      <td>0.0</td>\n",
              "      <td>0.0</td>\n",
              "    </tr>\n",
              "    <tr>\n",
              "      <th>S1</th>\n",
              "      <td>0.0</td>\n",
              "      <td>4.0</td>\n",
              "      <td>0.0</td>\n",
              "      <td>1.0</td>\n",
              "      <td>0.0</td>\n",
              "      <td>0.0</td>\n",
              "      <td>16.0</td>\n",
              "    </tr>\n",
              "    <tr>\n",
              "      <th>S2</th>\n",
              "      <td>0.0</td>\n",
              "      <td>0.0</td>\n",
              "      <td>5.0</td>\n",
              "      <td>0.0</td>\n",
              "      <td>1.0</td>\n",
              "      <td>0.0</td>\n",
              "      <td>30.0</td>\n",
              "    </tr>\n",
              "    <tr>\n",
              "      <th>S3</th>\n",
              "      <td>0.0</td>\n",
              "      <td>4.0</td>\n",
              "      <td>3.0</td>\n",
              "      <td>0.0</td>\n",
              "      <td>0.0</td>\n",
              "      <td>1.0</td>\n",
              "      <td>24.0</td>\n",
              "    </tr>\n",
              "  </tbody>\n",
              "</table>\n",
              "</div>"
            ],
            "text/plain": [
              "      Z    X1    X2   S1   S2   S3    NK\n",
              "Z   1.0 -50.0 -40.0  0.0  0.0  0.0   0.0\n",
              "S1  0.0   4.0   0.0  1.0  0.0  0.0  16.0\n",
              "S2  0.0   0.0   5.0  0.0  1.0  0.0  30.0\n",
              "S3  0.0   4.0   3.0  0.0  0.0  1.0  24.0"
            ]
          },
          "metadata": {}
        },
        {
          "output_type": "stream",
          "name": "stdout",
          "text": [
            "\n",
            "\n"
          ]
        },
        {
          "output_type": "display_data",
          "data": {
            "text/html": [
              "<div>\n",
              "<style scoped>\n",
              "    .dataframe tbody tr th:only-of-type {\n",
              "        vertical-align: middle;\n",
              "    }\n",
              "\n",
              "    .dataframe tbody tr th {\n",
              "        vertical-align: top;\n",
              "    }\n",
              "\n",
              "    .dataframe thead th {\n",
              "        text-align: right;\n",
              "    }\n",
              "</style>\n",
              "<table border=\"1\" class=\"dataframe\">\n",
              "  <thead>\n",
              "    <tr style=\"text-align: right;\">\n",
              "      <th></th>\n",
              "      <th>Z</th>\n",
              "      <th>X1</th>\n",
              "      <th>X2</th>\n",
              "      <th>S1</th>\n",
              "      <th>S2</th>\n",
              "      <th>S3</th>\n",
              "      <th>NK</th>\n",
              "    </tr>\n",
              "  </thead>\n",
              "  <tbody>\n",
              "    <tr>\n",
              "      <th>Z</th>\n",
              "      <td>1.0</td>\n",
              "      <td>0.0</td>\n",
              "      <td>-40.0</td>\n",
              "      <td>12.50</td>\n",
              "      <td>0.0</td>\n",
              "      <td>0.0</td>\n",
              "      <td>200.0</td>\n",
              "    </tr>\n",
              "    <tr>\n",
              "      <th>X1</th>\n",
              "      <td>0.0</td>\n",
              "      <td>1.0</td>\n",
              "      <td>0.0</td>\n",
              "      <td>0.25</td>\n",
              "      <td>0.0</td>\n",
              "      <td>0.0</td>\n",
              "      <td>4.0</td>\n",
              "    </tr>\n",
              "    <tr>\n",
              "      <th>S2</th>\n",
              "      <td>0.0</td>\n",
              "      <td>0.0</td>\n",
              "      <td>5.0</td>\n",
              "      <td>0.00</td>\n",
              "      <td>1.0</td>\n",
              "      <td>0.0</td>\n",
              "      <td>30.0</td>\n",
              "    </tr>\n",
              "    <tr>\n",
              "      <th>S3</th>\n",
              "      <td>0.0</td>\n",
              "      <td>0.0</td>\n",
              "      <td>3.0</td>\n",
              "      <td>-1.00</td>\n",
              "      <td>0.0</td>\n",
              "      <td>1.0</td>\n",
              "      <td>8.0</td>\n",
              "    </tr>\n",
              "  </tbody>\n",
              "</table>\n",
              "</div>"
            ],
            "text/plain": [
              "      Z   X1    X2     S1   S2   S3     NK\n",
              "Z   1.0  0.0 -40.0  12.50  0.0  0.0  200.0\n",
              "X1  0.0  1.0   0.0   0.25  0.0  0.0    4.0\n",
              "S2  0.0  0.0   5.0   0.00  1.0  0.0   30.0\n",
              "S3  0.0  0.0   3.0  -1.00  0.0  1.0    8.0"
            ]
          },
          "metadata": {}
        },
        {
          "output_type": "stream",
          "name": "stdout",
          "text": [
            "\n",
            "\n"
          ]
        },
        {
          "output_type": "display_data",
          "data": {
            "text/html": [
              "<div>\n",
              "<style scoped>\n",
              "    .dataframe tbody tr th:only-of-type {\n",
              "        vertical-align: middle;\n",
              "    }\n",
              "\n",
              "    .dataframe tbody tr th {\n",
              "        vertical-align: top;\n",
              "    }\n",
              "\n",
              "    .dataframe thead th {\n",
              "        text-align: right;\n",
              "    }\n",
              "</style>\n",
              "<table border=\"1\" class=\"dataframe\">\n",
              "  <thead>\n",
              "    <tr style=\"text-align: right;\">\n",
              "      <th></th>\n",
              "      <th>Z</th>\n",
              "      <th>X1</th>\n",
              "      <th>X2</th>\n",
              "      <th>S1</th>\n",
              "      <th>S2</th>\n",
              "      <th>S3</th>\n",
              "      <th>NK</th>\n",
              "    </tr>\n",
              "  </thead>\n",
              "  <tbody>\n",
              "    <tr>\n",
              "      <th>Z</th>\n",
              "      <td>1.0</td>\n",
              "      <td>0.0</td>\n",
              "      <td>0.0</td>\n",
              "      <td>-0.833333</td>\n",
              "      <td>0.0</td>\n",
              "      <td>13.333333</td>\n",
              "      <td>306.666667</td>\n",
              "    </tr>\n",
              "    <tr>\n",
              "      <th>X1</th>\n",
              "      <td>0.0</td>\n",
              "      <td>1.0</td>\n",
              "      <td>0.0</td>\n",
              "      <td>0.250000</td>\n",
              "      <td>0.0</td>\n",
              "      <td>0.000000</td>\n",
              "      <td>4.000000</td>\n",
              "    </tr>\n",
              "    <tr>\n",
              "      <th>S2</th>\n",
              "      <td>0.0</td>\n",
              "      <td>0.0</td>\n",
              "      <td>0.0</td>\n",
              "      <td>1.666667</td>\n",
              "      <td>1.0</td>\n",
              "      <td>-1.666667</td>\n",
              "      <td>16.666667</td>\n",
              "    </tr>\n",
              "    <tr>\n",
              "      <th>X2</th>\n",
              "      <td>0.0</td>\n",
              "      <td>0.0</td>\n",
              "      <td>1.0</td>\n",
              "      <td>-0.333333</td>\n",
              "      <td>0.0</td>\n",
              "      <td>0.333333</td>\n",
              "      <td>2.666667</td>\n",
              "    </tr>\n",
              "  </tbody>\n",
              "</table>\n",
              "</div>"
            ],
            "text/plain": [
              "      Z   X1   X2        S1   S2         S3          NK\n",
              "Z   1.0  0.0  0.0 -0.833333  0.0  13.333333  306.666667\n",
              "X1  0.0  1.0  0.0  0.250000  0.0   0.000000    4.000000\n",
              "S2  0.0  0.0  0.0  1.666667  1.0  -1.666667   16.666667\n",
              "X2  0.0  0.0  1.0 -0.333333  0.0   0.333333    2.666667"
            ]
          },
          "metadata": {}
        },
        {
          "output_type": "stream",
          "name": "stdout",
          "text": [
            "\n",
            "\n"
          ]
        },
        {
          "output_type": "display_data",
          "data": {
            "text/html": [
              "<div>\n",
              "<style scoped>\n",
              "    .dataframe tbody tr th:only-of-type {\n",
              "        vertical-align: middle;\n",
              "    }\n",
              "\n",
              "    .dataframe tbody tr th {\n",
              "        vertical-align: top;\n",
              "    }\n",
              "\n",
              "    .dataframe thead th {\n",
              "        text-align: right;\n",
              "    }\n",
              "</style>\n",
              "<table border=\"1\" class=\"dataframe\">\n",
              "  <thead>\n",
              "    <tr style=\"text-align: right;\">\n",
              "      <th></th>\n",
              "      <th>Z</th>\n",
              "      <th>X1</th>\n",
              "      <th>X2</th>\n",
              "      <th>S1</th>\n",
              "      <th>S2</th>\n",
              "      <th>S3</th>\n",
              "      <th>NK</th>\n",
              "    </tr>\n",
              "  </thead>\n",
              "  <tbody>\n",
              "    <tr>\n",
              "      <th>Z</th>\n",
              "      <td>1.0</td>\n",
              "      <td>0.0</td>\n",
              "      <td>0.0</td>\n",
              "      <td>0.0</td>\n",
              "      <td>0.50</td>\n",
              "      <td>12.50</td>\n",
              "      <td>315.0</td>\n",
              "    </tr>\n",
              "    <tr>\n",
              "      <th>X1</th>\n",
              "      <td>0.0</td>\n",
              "      <td>1.0</td>\n",
              "      <td>0.0</td>\n",
              "      <td>0.0</td>\n",
              "      <td>-0.15</td>\n",
              "      <td>0.25</td>\n",
              "      <td>1.5</td>\n",
              "    </tr>\n",
              "    <tr>\n",
              "      <th>S1</th>\n",
              "      <td>0.0</td>\n",
              "      <td>0.0</td>\n",
              "      <td>0.0</td>\n",
              "      <td>1.0</td>\n",
              "      <td>0.60</td>\n",
              "      <td>-1.00</td>\n",
              "      <td>10.0</td>\n",
              "    </tr>\n",
              "    <tr>\n",
              "      <th>X2</th>\n",
              "      <td>0.0</td>\n",
              "      <td>0.0</td>\n",
              "      <td>1.0</td>\n",
              "      <td>0.0</td>\n",
              "      <td>0.20</td>\n",
              "      <td>0.00</td>\n",
              "      <td>6.0</td>\n",
              "    </tr>\n",
              "  </tbody>\n",
              "</table>\n",
              "</div>"
            ],
            "text/plain": [
              "      Z   X1   X2   S1    S2     S3     NK\n",
              "Z   1.0  0.0  0.0  0.0  0.50  12.50  315.0\n",
              "X1  0.0  1.0  0.0  0.0 -0.15   0.25    1.5\n",
              "S1  0.0  0.0  0.0  1.0  0.60  -1.00   10.0\n",
              "X2  0.0  0.0  1.0  0.0  0.20   0.00    6.0"
            ]
          },
          "metadata": {}
        },
        {
          "output_type": "stream",
          "name": "stdout",
          "text": [
            "\n",
            "\n",
            "Tabel tidak bisa dioptimalkan lagi\n",
            "\n",
            "Nilai Z max adalah 314.99999999999994\n",
            "X1 = 1.4999999999999996\n",
            "X2 = 6.0\n"
          ]
        }
      ]
    },
    {
      "cell_type": "code",
      "metadata": {
        "id": "zw_59odw6GDx"
      },
      "source": [
        ""
      ],
      "execution_count": null,
      "outputs": []
    }
  ]
}